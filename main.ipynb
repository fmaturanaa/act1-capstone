{
 "cells": [
  {
   "cell_type": "code",
   "execution_count": 1,
   "metadata": {},
   "outputs": [],
   "source": [
    "import pandas as pd\n",
    "from pandas.io.json import json_normalize\n",
    "import warnings\n",
    "warnings.filterwarnings(\"ignore\")\n",
    "from topTenRetweeted import topTenRetweeted"
   ]
  },
  {
   "cell_type": "code",
   "execution_count": 2,
   "metadata": {},
   "outputs": [],
   "source": [
    "raw_tweets = pd.read_json(r'farmers-protest-tweets-2021-03-5.json', lines=True)\n",
    "raw_tweets = raw_tweets[raw_tweets['lang']=='en']"
   ]
  },
  {
   "cell_type": "code",
   "execution_count": 3,
   "metadata": {},
   "outputs": [
    {
     "data": {
      "text/html": [
       "<div>\n",
       "<style scoped>\n",
       "    .dataframe tbody tr th:only-of-type {\n",
       "        vertical-align: middle;\n",
       "    }\n",
       "\n",
       "    .dataframe tbody tr th {\n",
       "        vertical-align: top;\n",
       "    }\n",
       "\n",
       "    .dataframe thead th {\n",
       "        text-align: right;\n",
       "    }\n",
       "</style>\n",
       "<table border=\"1\" class=\"dataframe\">\n",
       "  <thead>\n",
       "    <tr style=\"text-align: right;\">\n",
       "      <th></th>\n",
       "      <th>url</th>\n",
       "      <th>content</th>\n",
       "      <th>retweetCount</th>\n",
       "    </tr>\n",
       "  </thead>\n",
       "  <tbody>\n",
       "    <tr>\n",
       "      <th>408128</th>\n",
       "      <td>https://twitter.com/rihanna/status/13566258896...</td>\n",
       "      <td>why aren’t we talking about this?! #FarmersPro...</td>\n",
       "      <td>315547</td>\n",
       "    </tr>\n",
       "    <tr>\n",
       "      <th>395142</th>\n",
       "      <td>https://twitter.com/GretaThunberg/status/13566...</td>\n",
       "      <td>We stand in solidarity with the #FarmersProtes...</td>\n",
       "      <td>103957</td>\n",
       "    </tr>\n",
       "    <tr>\n",
       "      <th>266196</th>\n",
       "      <td>https://twitter.com/GretaThunberg/status/13572...</td>\n",
       "      <td>I still #StandWithFarmers and support their pe...</td>\n",
       "      <td>67694</td>\n",
       "    </tr>\n",
       "    <tr>\n",
       "      <th>366579</th>\n",
       "      <td>https://twitter.com/miakhalifa/status/13568483...</td>\n",
       "      <td>“Paid actors,” huh? Quite the casting director...</td>\n",
       "      <td>35921</td>\n",
       "    </tr>\n",
       "    <tr>\n",
       "      <th>372793</th>\n",
       "      <td>https://twitter.com/miakhalifa/status/13568277...</td>\n",
       "      <td>What in the human rights violations is going o...</td>\n",
       "      <td>26972</td>\n",
       "    </tr>\n",
       "    <tr>\n",
       "      <th>314192</th>\n",
       "      <td>https://twitter.com/TeamJuJu/status/1357048037...</td>\n",
       "      <td>Happy to share that I’ve donated $10,000 to pr...</td>\n",
       "      <td>23251</td>\n",
       "    </tr>\n",
       "    <tr>\n",
       "      <th>215034</th>\n",
       "      <td>https://twitter.com/BobBlackman/status/1357755...</td>\n",
       "      <td>There has been much social media coverage arou...</td>\n",
       "      <td>20132</td>\n",
       "    </tr>\n",
       "    <tr>\n",
       "      <th>398011</th>\n",
       "      <td>https://twitter.com/vanessa_vash/status/135668...</td>\n",
       "      <td>Farmers feed the world. Fight for them. Protec...</td>\n",
       "      <td>18744</td>\n",
       "    </tr>\n",
       "    <tr>\n",
       "      <th>325261</th>\n",
       "      <td>https://twitter.com/kylekuzma/status/135700972...</td>\n",
       "      <td>Should be talking about this! #FarmersProtest\\...</td>\n",
       "      <td>17368</td>\n",
       "    </tr>\n",
       "    <tr>\n",
       "      <th>163689</th>\n",
       "      <td>https://twitter.com/AmandaCerny/status/1359013...</td>\n",
       "      <td>To all of my influencer/celeb friends- read up...</td>\n",
       "      <td>15677</td>\n",
       "    </tr>\n",
       "  </tbody>\n",
       "</table>\n",
       "</div>"
      ],
      "text/plain": [
       "                                                      url  \\\n",
       "408128  https://twitter.com/rihanna/status/13566258896...   \n",
       "395142  https://twitter.com/GretaThunberg/status/13566...   \n",
       "266196  https://twitter.com/GretaThunberg/status/13572...   \n",
       "366579  https://twitter.com/miakhalifa/status/13568483...   \n",
       "372793  https://twitter.com/miakhalifa/status/13568277...   \n",
       "314192  https://twitter.com/TeamJuJu/status/1357048037...   \n",
       "215034  https://twitter.com/BobBlackman/status/1357755...   \n",
       "398011  https://twitter.com/vanessa_vash/status/135668...   \n",
       "325261  https://twitter.com/kylekuzma/status/135700972...   \n",
       "163689  https://twitter.com/AmandaCerny/status/1359013...   \n",
       "\n",
       "                                                  content  retweetCount  \n",
       "408128  why aren’t we talking about this?! #FarmersPro...        315547  \n",
       "395142  We stand in solidarity with the #FarmersProtes...        103957  \n",
       "266196  I still #StandWithFarmers and support their pe...         67694  \n",
       "366579  “Paid actors,” huh? Quite the casting director...         35921  \n",
       "372793  What in the human rights violations is going o...         26972  \n",
       "314192  Happy to share that I’ve donated $10,000 to pr...         23251  \n",
       "215034  There has been much social media coverage arou...         20132  \n",
       "398011  Farmers feed the world. Fight for them. Protec...         18744  \n",
       "325261  Should be talking about this! #FarmersProtest\\...         17368  \n",
       "163689  To all of my influencer/celeb friends- read up...         15677  "
      ]
     },
     "execution_count": 3,
     "metadata": {},
     "output_type": "execute_result"
    }
   ],
   "source": [
    "topTenRetweeted(raw_tweets)"
   ]
  }
 ],
 "metadata": {
  "kernelspec": {
   "display_name": "Python 3",
   "language": "python",
   "name": "python3"
  },
  "language_info": {
   "codemirror_mode": {
    "name": "ipython",
    "version": 3
   },
   "file_extension": ".py",
   "mimetype": "text/x-python",
   "name": "python",
   "nbconvert_exporter": "python",
   "pygments_lexer": "ipython3",
   "version": "3.7.7"
  }
 },
 "nbformat": 4,
 "nbformat_minor": 4
}
