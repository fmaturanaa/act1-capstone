{
 "cells": [
  {
   "cell_type": "code",
   "execution_count": 8,
   "metadata": {},
   "outputs": [],
   "source": [
    "import pandas as pd\n",
    "from pandas.io.json import json_normalize\n",
    "import warnings\n",
    "warnings.filterwarnings(\"ignore\")\n",
    "from topTenRetweeted import topTenRetweeted\n",
    "from topTenUsers import topTenUsers\n",
    "from topTenDays import topTenDays\n",
    "from topTenHashtags import topTenHashtags"
   ]
  },
  {
   "cell_type": "code",
   "execution_count": 2,
   "metadata": {},
   "outputs": [],
   "source": [
    "raw_tweets = pd.read_json(r'farmers-protest-tweets-2021-03-5.json', lines=True)\n",
    "raw_tweets = raw_tweets[raw_tweets['lang']=='en']\n",
    "raw_tweets = pd.DataFrame(raw_tweets)"
   ]
  },
  {
   "cell_type": "code",
   "execution_count": null,
   "metadata": {},
   "outputs": [],
   "source": [
    "stop = False\n",
    "while (stop == False):\n",
    "    print('Hola! Elige la funcion que deseas ejecutar: ')\n",
    "    print('[0] Salir')\n",
    "    print('[1] Top 10 más retweeted')\n",
    "    print('[2] Top 10 usuarios con más tweets')\n",
    "    print('[3] Top 10 dias con más tweets')\n",
    "    print('[4] Top 10 hashtags más usados')\n",
    "    number = int(input('Tu número: '))\n",
    "\n",
    "    if (number == 0):\n",
    "        stop = True\n",
    "\n",
    "    elif(number == 1):\n",
    "        print(topTenRetweeted(raw_tweets))\n",
    "\n",
    "    elif(number == 2):\n",
    "        print(topTenUsers(raw_tweets))\n",
    "\n",
    "    elif(number == 3):\n",
    "        print(topTenDays(raw_tweets))\n",
    "\n",
    "    elif(number == 4):\n",
    "        print(topTenHashtags(raw_tweets))"
   ]
  }
 ],
 "metadata": {
  "kernelspec": {
   "display_name": "Python 3",
   "language": "python",
   "name": "python3"
  },
  "language_info": {
   "codemirror_mode": {
    "name": "ipython",
    "version": 3
   },
   "file_extension": ".py",
   "mimetype": "text/x-python",
   "name": "python",
   "nbconvert_exporter": "python",
   "pygments_lexer": "ipython3",
   "version": "3.7.7"
  }
 },
 "nbformat": 4,
 "nbformat_minor": 4
}
